{
 "cells": [
  {
   "cell_type": "code",
   "execution_count": 1,
   "metadata": {},
   "outputs": [],
   "source": [
    "import numpy as np\n",
    "from sklearn.datasets import load_svmlight_file\n",
    "from sklearn.datasets import dump_svmlight_file\n",
    "from scipy import sparse as sps\n",
    "import utils\n",
    "import DecisionTree as dt\n",
    "from sklearn.preprocessing import normalize"
   ]
  },
  {
   "cell_type": "code",
   "execution_count": 3,
   "metadata": {},
   "outputs": [
    {
     "name": "stdout",
     "output_type": "stream",
     "text": [
      "(10000, 3400)\n",
      "(10000, 16385)\n",
      "  (3094, 0)\t0.02798659219598559\n",
      "  (650, 0)\t0.02798659219598559\n",
      "  (3316, 0)\t0.020078296615234623\n",
      "  (3004, 0)\t0.020078296615234623\n",
      "  (2933, 0)\t0.020078296615234623\n",
      "  (2539, 0)\t0.020078296615234623\n",
      "  (1879, 0)\t0.020078296615234623\n",
      "  (1742, 0)\t0.020078296615234623\n",
      "  (1570, 0)\t0.020078296615234623\n",
      "  (1532, 0)\t0.020078296615234623\n",
      "  (1404, 0)\t0.020078296615234623\n",
      "  (834, 0)\t0.020078296615234623\n",
      "  (642, 0)\t0.020078296615234623\n",
      "  (471, 0)\t0.020078296615234623\n",
      "  (431, 0)\t0.020078296615234623\n",
      "  (2649, 0)\t0.013517052178076111\n",
      "  (2515, 0)\t0.013517052178076111\n",
      "  (2315, 0)\t0.013517052178076111\n",
      "  (2294, 0)\t0.013517052178076111\n",
      "  (1976, 0)\t0.013517052178076111\n",
      "  (1929, 0)\t0.013517052178076111\n",
      "  (1330, 0)\t0.013517052178076111\n",
      "  (1318, 0)\t0.013517052178076111\n",
      "  (1218, 0)\t0.013517052178076111\n",
      "  (1209, 0)\t0.013517052178076111\n",
      "  :\t:\n",
      "  (1775, 16384)\t32.52691091463754\n",
      "  (1721, 16384)\t24.74873692949793\n",
      "  (1697, 16384)\t51.6187933229397\n",
      "  (880, 16384)\t50.91168535056298\n",
      "  (745, 16384)\t122.3294727775784\n",
      "  (340, 16384)\t27.577162281677715\n",
      "  (3327, 16384)\t5714.836931179306\n",
      "  (3321, 16384)\t3012.274843075672\n",
      "  (3249, 16384)\t6.363960663056047\n",
      "  (3136, 16384)\t219.91020700562606\n",
      "  (3003, 16384)\t4.242640752444167\n",
      "  (2911, 16384)\t524.6732335634633\n",
      "  (2799, 16384)\t13.435028217588037\n",
      "  (2685, 16384)\t1999.6979577189265\n",
      "  (2573, 16384)\t708.520995730251\n",
      "  (2364, 16384)\t37.476657671665755\n",
      "  (2337, 16384)\t207.18228559713253\n",
      "  (2016, 16384)\t18.384775453390564\n",
      "  (2015, 16384)\t7.778174499576993\n",
      "  (1562, 16384)\t31.112697597666696\n",
      "  (1011, 16384)\t398.8082219608324\n",
      "  (910, 16384)\t9.899494962025509\n",
      "  (754, 16384)\t41.71929858574279\n",
      "  (753, 16384)\t9.192388000233763\n",
      "  (683, 16384)\t14.849241582946284\n"
     ]
    }
   ],
   "source": [
    "def train_trees():\n",
    "    (X, y)=utils.load_data(\"data\",16385,3400)\n",
    "    X=normalize(X, norm='l2', axis=1)\n",
    "    yt=y.transpose()\n",
    "    #assuming param.cent_type == 0\n",
    "    print(y.shape)\n",
    "    print(X.shape)\n",
    "    cent_mat=yt*X\n",
    "    cent_mat=normalize(cent_mat, norm='l2', axis=1)\n",
    "    print(cent_mat)\n",
    "\n",
    "train_trees()"
   ]
  },
  {
   "cell_type": "code",
   "execution_count": null,
   "metadata": {},
   "outputs": [],
   "source": []
  },
  {
   "cell_type": "code",
   "execution_count": null,
   "metadata": {},
   "outputs": [],
   "source": []
  }
 ],
 "metadata": {
  "kernelspec": {
   "display_name": "Python 3",
   "language": "python",
   "name": "python3"
  },
  "language_info": {
   "codemirror_mode": {
    "name": "ipython",
    "version": 3
   },
   "file_extension": ".py",
   "mimetype": "text/x-python",
   "name": "python",
   "nbconvert_exporter": "python",
   "pygments_lexer": "ipython3",
   "version": "3.6.8"
  }
 },
 "nbformat": 4,
 "nbformat_minor": 2
}
