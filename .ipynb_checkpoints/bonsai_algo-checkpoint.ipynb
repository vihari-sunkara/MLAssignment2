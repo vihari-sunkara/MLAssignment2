{
 "cells": [
  {
   "cell_type": "code",
   "execution_count": 1,
   "metadata": {},
   "outputs": [],
   "source": [
    "import numpy as np\n",
    "from sklearn.datasets import load_svmlight_file\n",
    "from sklearn.datasets import dump_svmlight_file\n",
    "from scipy import sparse as sps\n",
    "import utils\n",
    "import predict\n",
    "import DecisionTree as dt\n",
    "from sklearn.preprocessing import normalize\n",
    "from sklearn.cluster import KMeans\n",
    "from sklearn.model_selection import train_test_split\n",
    "import time as tm\n",
    "import subprocess\n",
    "# from scipy import io"
   ]
  },
  {
   "cell_type": "code",
   "execution_count": 4,
   "metadata": {},
   "outputs": [
    {
     "data": {
      "text/plain": [
       "127"
      ]
     },
     "execution_count": 4,
     "metadata": {},
     "output_type": "execute_result"
    }
   ],
   "source": [
    "subprocess.call(['./sample_run.sh'])"
   ]
  },
  {
   "cell_type": "code",
   "execution_count": 2,
   "metadata": {},
   "outputs": [
    {
     "data": {
      "text/plain": [
       "<3300x3400 sparse matrix of type '<class 'numpy.float64'>'\n",
       "\twith 330000 stored elements in Compressed Sparse Row format>"
      ]
     },
     "execution_count": 2,
     "metadata": {},
     "output_type": "execute_result"
    }
   ],
   "source": [
    "filename='score_mat.txt'\n",
    "L=3400\n",
    "sparse_matrix, _ = load_svmlight_file( \"%s\" % filename, multilabel = True, n_features = L, offset = 1 )\n",
    "sparse_matrix"
   ]
  },
  {
   "cell_type": "code",
   "execution_count": 4,
   "metadata": {},
   "outputs": [
    {
     "data": {
      "text/plain": [
       "array([  59,   68,  149, ..., 3350, 3361, 3374], dtype=int32)"
      ]
     },
     "execution_count": 4,
     "metadata": {},
     "output_type": "execute_result"
    }
   ],
   "source": [
    "# arr_ll=sparse_matrix.tolil()\n",
    "arr_ll=sparse_matrix\n",
    "arr_ll.indices"
   ]
  },
  {
   "cell_type": "code",
   "execution_count": 11,
   "metadata": {},
   "outputs": [
    {
     "name": "stdout",
     "output_type": "stream",
     "text": [
      "n:  1000\n",
      "L:  3400\n",
      "yPred of type  <class 'numpy.ndarray'>  is returned here\n",
      "time for prediction:  0.48313600100027543\n",
      "prec@ 1 :  [[0.87630325]]\n",
      "mprec@ 1 :  [0.00168808]\n"
     ]
    }
   ],
   "source": [
    "k=1\n",
    "tic = tm.perf_counter()\n",
    "yPred = predict.getReco( arr_ll, k )\n",
    "toc = tm.perf_counter()\n",
    "print(\"time for prediction: \",toc-tic)\n",
    "prec_k = utils.getPrecAtK( arr_ll, yPred, k )\n",
    "print(\"prec@\",k,\": \",prec_k)\n",
    "mprec_k = utils.getMPrecAtK( arr_ll, yPred, k )\n",
    "print(\"mprec@\",k,\": \",mprec_k)"
   ]
  },
  {
   "cell_type": "code",
   "execution_count": 12,
   "metadata": {},
   "outputs": [
    {
     "name": "stdout",
     "output_type": "stream",
     "text": [
      "n:  1000\n",
      "L:  3400\n",
      "yPred of type  <class 'numpy.ndarray'>  is returned here\n",
      "time for prediction:  0.48620009099977324\n",
      "prec@ 3 :  [[0.87630325 0.74341434 0.64335402]]\n",
      "mprec@ 3 :  [0.00168808 0.00207263 0.00210374]\n"
     ]
    }
   ],
   "source": [
    "k=3\n",
    "tic = tm.perf_counter()\n",
    "yPred = predict.getReco( arr_ll, k )\n",
    "toc = tm.perf_counter()\n",
    "print(\"time for prediction: \",toc-tic)\n",
    "prec_k = utils.getPrecAtK( arr_ll, yPred, k )\n",
    "print(\"prec@\",k,\": \",prec_k)\n",
    "mprec_k = utils.getMPrecAtK( arr_ll, yPred, k )\n",
    "print(\"mprec@\",k,\": \",mprec_k)"
   ]
  },
  {
   "cell_type": "code",
   "execution_count": 13,
   "metadata": {},
   "outputs": [
    {
     "name": "stdout",
     "output_type": "stream",
     "text": [
      "n:  1000\n",
      "L:  3400\n",
      "yPred of type  <class 'numpy.ndarray'>  is returned here\n",
      "time for prediction:  0.4816531540000142\n",
      "prec@ 5 :  [[0.87630325 0.74341434 0.64335402 0.56574976 0.50539189]]\n",
      "mprec@ 5 :  [0.00168808 0.00207263 0.00210374 0.00210374 0.00210374]\n"
     ]
    }
   ],
   "source": [
    "k=5\n",
    "tic = tm.perf_counter()\n",
    "yPred = predict.getReco( arr_ll, k )\n",
    "toc = tm.perf_counter()\n",
    "print(\"time for prediction: \",toc-tic)\n",
    "prec_k = utils.getPrecAtK( arr_ll, yPred, k )\n",
    "print(\"prec@\",k,\": \",prec_k)\n",
    "mprec_k = utils.getMPrecAtK( arr_ll, yPred, k )\n",
    "print(\"mprec@\",k,\": \",mprec_k)"
   ]
  },
  {
   "cell_type": "code",
   "execution_count": null,
   "metadata": {},
   "outputs": [],
   "source": []
  }
 ],
 "metadata": {
  "kernelspec": {
   "display_name": "Python 3",
   "language": "python",
   "name": "python3"
  },
  "language_info": {
   "codemirror_mode": {
    "name": "ipython",
    "version": 3
   },
   "file_extension": ".py",
   "mimetype": "text/x-python",
   "name": "python",
   "nbconvert_exporter": "python",
   "pygments_lexer": "ipython3",
   "version": "3.6.8"
  }
 },
 "nbformat": 4,
 "nbformat_minor": 2
}
