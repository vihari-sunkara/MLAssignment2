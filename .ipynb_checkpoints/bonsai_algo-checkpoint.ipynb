{
 "cells": [
  {
   "cell_type": "code",
   "execution_count": 2,
   "metadata": {},
   "outputs": [],
   "source": [
    "import numpy as np\n",
    "from sklearn.datasets import load_svmlight_file\n",
    "from sklearn.datasets import dump_svmlight_file\n",
    "from scipy import sparse as sps\n",
    "import utils\n",
    "import predict\n",
    "import DecisionTree as dt\n",
    "from sklearn.preprocessing import normalize\n",
    "from sklearn.cluster import KMeans\n",
    "import time"
   ]
  },
  {
   "cell_type": "code",
   "execution_count": 2,
   "metadata": {},
   "outputs": [],
   "source": [
    "def kmeans(cent_mat,K):\n",
    "    start = time.time()\n",
    "    kmeans = KMeans(n_clusters=100,n_jobs=-1)\n",
    "    kmeans.fit(cent_mat)\n",
    "    end = time.time()\n",
    "    print(\"time elapsed: \",end-start)\n",
    "    list = kmeans.predict(cent_mat)\n",
    "    partitions = [[] for i in range(K)]\n",
    "    for i in range(3400):\n",
    "        partitions[list[i]].append(i)\n",
    "    return partitions\n",
    "# BELOW CODE FOR PRINTING THE LABELS IN EACH PARTITION\n",
    "#     i=0\n",
    "#     for partition in partitions:\n",
    "#         print(\"partition \",i,\" has labels \",partition)\n",
    "#         i+=1"
   ]
  },
  {
   "cell_type": "code",
   "execution_count": 3,
   "metadata": {},
   "outputs": [
    {
     "ename": "IndentationError",
     "evalue": "expected an indented block (<ipython-input-3-f35c64e454c2>, line 23)",
     "output_type": "error",
     "traceback": [
      "\u001b[0;36m  File \u001b[0;32m\"<ipython-input-3-f35c64e454c2>\"\u001b[0;36m, line \u001b[0;32m23\u001b[0m\n\u001b[0;31m    return\u001b[0m\n\u001b[0m         ^\u001b[0m\n\u001b[0;31mIndentationError\u001b[0m\u001b[0;31m:\u001b[0m expected an indented block\n"
     ]
    }
   ],
   "source": [
    "def delete_rows_csr(mat, indices):\n",
    "    \"\"\"\n",
    "    Remove the rows denoted by ``indices`` form the CSR sparse matrix ``mat``.\n",
    "    \"\"\"\n",
    "    if not isinstance(mat, scipy.sparse.csr_matrix):\n",
    "        raise ValueError(\"works only for CSR format -- use .tocsr() first\")\n",
    "    indices = list(indices)\n",
    "    mask = numpy.ones(mat.shape[0], dtype=bool)\n",
    "    mask[indices] = False\n",
    "    return mat[mask]\n",
    "\n",
    "def shrinkdata(node,inputX,inputy,centMatrix,n_Y,n_X,n_Xf,n_cXf):\n",
    "    node.inputy=shrinkMatrix(inputy,n_Y,n_X)\n",
    "    node.inputX=shrinkMatrix(inputX,n_X,n_Xf)\n",
    "    node.centMatrix=shrinkMatrix(centMatrix,n_Y,n_cXf)\n",
    "    return\n",
    "\n",
    "def shrinkMatrix(dataInput,inputDimension,outputDimension):\n",
    "    rows=dataInput.shape[0]\n",
    "    indicesDelete=[]\n",
    "    for i in rows:\n",
    "        \n",
    "    return"
   ]
  },
  {
   "cell_type": "code",
   "execution_count": null,
   "metadata": {},
   "outputs": [],
   "source": [
    "def bonsai_train(maxDepth,K):\n",
    "    (X, y)=utils.load_data(\"data\",16385,3400)\n",
    "    X=normalize(X, norm='l2', axis=1)\n",
    "    yt=y.transpose()\n",
    "    cent_mat=yt*X\n",
    "    cent_mat=normalize(cent_mat, norm='l2', axis=1)\n",
    "    root=dt.Node()\n",
    "    root.inputX=X\n",
    "    root.inputy=yt\n",
    "    root.depth=0\n",
    "    root.centMatrix=cent_mat\n",
    "    root.childNodes=grow(root,maxDepth,K)\n",
    "    return root\n",
    "\n",
    "def grow(node,maxDepth,K):\n",
    "    listOfPartition=kmeans(node.centMatrix,K)\n",
    "    childrenNodes=[]\n",
    "    for nodeLabelPartition in listOfPartition:\n",
    "        tempNode=dt.Node()\n",
    "        tempNode.labels=nodeLabelPartition\n",
    "        tempNode.depth=node.depth+1\n",
    "        n_X=[]\n",
    "        n_Xf=[]\n",
    "        n_cXf=[]\n",
    "        shrinkdata(tempNode,node.inputX,node.inputy,node.centMatrix,nodeLabelPartition,n_X,n_Xf,n_cXf)\n",
    "        if(K>=len(nodeLabelPartition) or tempNode.depth>=maxDepth):\n",
    "            #implement one-ve-all CSVM for the leaf node\n",
    "            continue\n",
    "        else:\n",
    "            grandChildNodes=grow(tempNode,maxDepth,K)\n",
    "            for grandchildnode in grandChildNodes:\n",
    "                tempNode.children.append(grandchildnode)\n",
    "        childrenNodes.append(tempNode)\n",
    "    #implement one-ve-all CSVM for the non-leaf node\n",
    "    return childrenNodes\n",
    "\n",
    "bonsai_train(2,3)"
   ]
  },
  {
   "cell_type": "code",
   "execution_count": 3,
   "metadata": {},
   "outputs": [
    {
     "data": {
      "text/plain": [
       "<1000x3400 sparse matrix of type '<class 'numpy.float64'>'\n",
       "\twith 100000 stored elements in Compressed Sparse Row format>"
      ]
     },
     "execution_count": 3,
     "metadata": {},
     "output_type": "execute_result"
    }
   ],
   "source": [
    "filename='score_mat.txt'\n",
    "L=3400\n",
    "sparse_matrix, _ = load_svmlight_file( \"%s\" % filename, multilabel = True, n_features = L, offset = 1 )\n",
    "sparse_matrix"
   ]
  },
  {
   "cell_type": "code",
   "execution_count": 4,
   "metadata": {},
   "outputs": [
    {
     "data": {
      "text/plain": [
       "array([  59,   68,  149, ..., 3350, 3361, 3374], dtype=int32)"
      ]
     },
     "execution_count": 4,
     "metadata": {},
     "output_type": "execute_result"
    }
   ],
   "source": [
    "# arr_ll=sparse_matrix.tolil()\n",
    "arr_ll=sparse_matrix\n",
    "arr_ll.indices"
   ]
  },
  {
   "cell_type": "code",
   "execution_count": 5,
   "metadata": {},
   "outputs": [],
   "source": [
    "def getTopK(row_data,ind_data):\n",
    "    ids = (row_data).argsort()[::-1]\n",
    "    return row_data[ids], ind_data[ids]"
   ]
  },
  {
   "cell_type": "code",
   "execution_count": 10,
   "metadata": {},
   "outputs": [
    {
     "name": "stdout",
     "output_type": "stream",
     "text": [
      "n:  1000\n"
     ]
    }
   ],
   "source": [
    "n=arr_ll.shape[0]\n",
    "print(\"n: \",n)\n",
    "k=4\n",
    "yPred = np.zeros( (n, k) )"
   ]
  },
  {
   "cell_type": "code",
   "execution_count": 11,
   "metadata": {},
   "outputs": [],
   "source": [
    "maxlen=0#--MAX LEN IS 100 FOR EACH OF THE ROWS..RECHECK THIS ONCE AND FIND OUT\n",
    "for i in range(n):\n",
    "    data,row=getTopK(np.array(arr_ll[i].data),np.array(arr_ll[i].indices))\n",
    "    arr_ll[i].data = data\n",
    "    arr_ll[i].indices = row\n",
    "    length = len(row)\n",
    "    if(length>maxlen):\n",
    "        maxlen = length\n",
    "    yPred[i] = row[0:k]\n",
    "np.savetxt(\"yPred.txt\",yPred.astype(int), fmt='%i')#FORMATTING TO INTEGER VALUED LABELS\n"
   ]
  },
  {
   "cell_type": "code",
   "execution_count": 12,
   "metadata": {},
   "outputs": [],
   "source": [
    "prec_k = utils.getPrecAtK( arr_ll, yPred, k )"
   ]
  },
  {
   "cell_type": "code",
   "execution_count": 13,
   "metadata": {},
   "outputs": [
    {
     "data": {
      "text/plain": [
       "matrix([[0.87630325, 0.74341434, 0.64335402, 0.56574976]])"
      ]
     },
     "execution_count": 13,
     "metadata": {},
     "output_type": "execute_result"
    }
   ],
   "source": [
    "prec_k"
   ]
  },
  {
   "cell_type": "code",
   "execution_count": 15,
   "metadata": {},
   "outputs": [],
   "source": [
    "mprec_k = utils.getMPrecAtK( arr_ll, yPred, k )"
   ]
  },
  {
   "cell_type": "code",
   "execution_count": 16,
   "metadata": {},
   "outputs": [
    {
     "data": {
      "text/plain": [
       "array([0.00168808, 0.00207263, 0.00210374, 0.00210374])"
      ]
     },
     "execution_count": 16,
     "metadata": {},
     "output_type": "execute_result"
    }
   ],
   "source": [
    "mprec_k"
   ]
  },
  {
   "cell_type": "code",
   "execution_count": 18,
   "metadata": {},
   "outputs": [
    {
     "data": {
      "text/plain": [
       "numpy.ndarray"
      ]
     },
     "execution_count": 18,
     "metadata": {},
     "output_type": "execute_result"
    }
   ],
   "source": [
    "type(yPred)"
   ]
  },
  {
   "cell_type": "code",
   "execution_count": 19,
   "metadata": {},
   "outputs": [
    {
     "ename": "AttributeError",
     "evalue": "module 'utils' has no attribute 'getReco'",
     "output_type": "error",
     "traceback": [
      "\u001b[0;31m---------------------------------------------------------------------------\u001b[0m",
      "\u001b[0;31mAttributeError\u001b[0m                            Traceback (most recent call last)",
      "\u001b[0;32m<ipython-input-19-ae9767b630d3>\u001b[0m in \u001b[0;36m<module>\u001b[0;34m\u001b[0m\n\u001b[0;32m----> 1\u001b[0;31m \u001b[0myPred_getReco\u001b[0m \u001b[0;34m=\u001b[0m \u001b[0mutils\u001b[0m\u001b[0;34m.\u001b[0m\u001b[0mgetReco\u001b[0m\u001b[0;34m(\u001b[0m\u001b[0marr_ll\u001b[0m\u001b[0;34m,\u001b[0m\u001b[0mk\u001b[0m\u001b[0;34m=\u001b[0m\u001b[0;36m3\u001b[0m\u001b[0;34m)\u001b[0m\u001b[0;34m\u001b[0m\u001b[0;34m\u001b[0m\u001b[0m\n\u001b[0m",
      "\u001b[0;31mAttributeError\u001b[0m: module 'utils' has no attribute 'getReco'"
     ]
    }
   ],
   "source": [
    "yPred_getReco = utils.getReco(arr_ll,k=3)"
   ]
  },
  {
   "cell_type": "code",
   "execution_count": null,
   "metadata": {},
   "outputs": [],
   "source": []
  }
 ],
 "metadata": {
  "kernelspec": {
   "display_name": "Python 3",
   "language": "python",
   "name": "python3"
  },
  "language_info": {
   "codemirror_mode": {
    "name": "ipython",
    "version": 3
   },
   "file_extension": ".py",
   "mimetype": "text/x-python",
   "name": "python",
   "nbconvert_exporter": "python",
   "pygments_lexer": "ipython3",
   "version": "3.6.8"
  }
 },
 "nbformat": 4,
 "nbformat_minor": 2
}
