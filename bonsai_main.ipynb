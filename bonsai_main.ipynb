{
 "cells": [
  {
   "cell_type": "code",
   "execution_count": 4,
   "metadata": {},
   "outputs": [],
   "source": [
    "import numpy as np\n",
    "from sklearn.datasets import load_svmlight_file\n",
    "from sklearn.datasets import dump_svmlight_file\n",
    "from scipy import sparse as sps\n",
    "import utils\n",
    "import DecisionTree as dt\n",
    "from sklearn.preprocessing import normalize"
   ]
  },
  {
   "cell_type": "code",
   "execution_count": 10,
   "metadata": {},
   "outputs": [
    {
     "name": "stdout",
     "output_type": "stream",
     "text": [
      "(10000, 3400)\n",
      "(10000, 16385)\n",
      "(3400, 16385)\n"
     ]
    }
   ],
   "source": [
    "def train_trees():\n",
    "    (X, y)=utils.load_data(\"data\",16385,3400)\n",
    "    X=normalize(X, norm='l2', axis=1)\n",
    "    yt=y.transpose()\n",
    "    #assuming param.cent_type == 0\n",
    "    print(y.shape)\n",
    "    print(X.shape)\n",
    "    cent_mat=yt*X\n",
    "    cent_mat=normalize(cent_mat, norm='l2', axis=1)\n",
    "    print(cent_mat.shape)\n",
    "\n",
    "train_trees()"
   ]
  },
  {
   "cell_type": "code",
   "execution_count": null,
   "metadata": {},
   "outputs": [],
   "source": []
  },
  {
   "cell_type": "code",
   "execution_count": null,
   "metadata": {},
   "outputs": [],
   "source": []
  }
 ],
 "metadata": {
  "kernelspec": {
   "display_name": "Python 2",
   "language": "python",
   "name": "python2"
  },
  "language_info": {
   "codemirror_mode": {
    "name": "ipython",
    "version": 3
   },
   "file_extension": ".py",
   "mimetype": "text/x-python",
   "name": "python",
   "nbconvert_exporter": "python",
   "pygments_lexer": "ipython3",
   "version": "3.6.8"
  }
 },
 "nbformat": 4,
 "nbformat_minor": 2
}
