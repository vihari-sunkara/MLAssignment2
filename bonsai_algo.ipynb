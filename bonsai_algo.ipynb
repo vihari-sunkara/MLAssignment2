{
 "cells": [
  {
   "cell_type": "code",
   "execution_count": 15,
   "metadata": {},
   "outputs": [],
   "source": [
    "import numpy as np\n",
    "from sklearn.datasets import load_svmlight_file\n",
    "from sklearn.datasets import dump_svmlight_file\n",
    "from scipy import sparse as sps\n",
    "import utils\n",
    "import DecisionTree as dt\n",
    "from sklearn.preprocessing import normalize\n",
    "from sklearn.cluster import KMeans\n",
    "import time"
   ]
  },
  {
   "cell_type": "code",
   "execution_count": 16,
   "metadata": {},
   "outputs": [
    {
     "ename": "AttributeError",
     "evalue": "'Node' object has no attribute 'childNodes'",
     "output_type": "error",
     "traceback": [
      "\u001b[0;31m---------------------------------------------------------------------------\u001b[0m",
      "\u001b[0;31mAttributeError\u001b[0m                            Traceback (most recent call last)",
      "\u001b[0;32m<ipython-input-16-2acb4ce93346>\u001b[0m in \u001b[0;36m<module>\u001b[0;34m\u001b[0m\n\u001b[1;32m     12\u001b[0m     \u001b[0;32mreturn\u001b[0m\u001b[0;34m\u001b[0m\u001b[0;34m\u001b[0m\u001b[0m\n\u001b[1;32m     13\u001b[0m \u001b[0;34m\u001b[0m\u001b[0m\n\u001b[0;32m---> 14\u001b[0;31m \u001b[0mbonsai_train\u001b[0m\u001b[0;34m(\u001b[0m\u001b[0;36m2\u001b[0m\u001b[0;34m,\u001b[0m\u001b[0;36m3\u001b[0m\u001b[0;34m)\u001b[0m\u001b[0;34m\u001b[0m\u001b[0;34m\u001b[0m\u001b[0m\n\u001b[0m",
      "\u001b[0;32m<ipython-input-16-2acb4ce93346>\u001b[0m in \u001b[0;36mbonsai_train\u001b[0;34m(maxDepth, K)\u001b[0m\n\u001b[1;32m      4\u001b[0m     \u001b[0mroot\u001b[0m\u001b[0;34m.\u001b[0m\u001b[0minputData\u001b[0m\u001b[0;34m=\u001b[0m\u001b[0mX\u001b[0m\u001b[0;34m\u001b[0m\u001b[0;34m\u001b[0m\u001b[0m\n\u001b[1;32m      5\u001b[0m     \u001b[0mgrow\u001b[0m\u001b[0;34m(\u001b[0m\u001b[0mroot\u001b[0m\u001b[0;34m,\u001b[0m\u001b[0mmaxDepth\u001b[0m\u001b[0;34m,\u001b[0m\u001b[0mK\u001b[0m\u001b[0;34m)\u001b[0m\u001b[0;34m\u001b[0m\u001b[0;34m\u001b[0m\u001b[0m\n\u001b[0;32m----> 6\u001b[0;31m     \u001b[0;32mfor\u001b[0m \u001b[0mnode\u001b[0m \u001b[0;32min\u001b[0m \u001b[0mroot\u001b[0m\u001b[0;34m.\u001b[0m\u001b[0mchildNodes\u001b[0m\u001b[0;34m:\u001b[0m\u001b[0;34m\u001b[0m\u001b[0;34m\u001b[0m\u001b[0m\n\u001b[0m\u001b[1;32m      7\u001b[0m         \u001b[0mroot\u001b[0m\u001b[0;34m.\u001b[0m\u001b[0mchildren\u001b[0m\u001b[0;34m.\u001b[0m\u001b[0mappend\u001b[0m\u001b[0;34m(\u001b[0m\u001b[0mnode\u001b[0m\u001b[0;34m)\u001b[0m\u001b[0;34m\u001b[0m\u001b[0;34m\u001b[0m\u001b[0m\n\u001b[1;32m      8\u001b[0m     \u001b[0;32mreturn\u001b[0m \u001b[0mroot\u001b[0m\u001b[0;34m\u001b[0m\u001b[0;34m\u001b[0m\u001b[0m\n",
      "\u001b[0;31mAttributeError\u001b[0m: 'Node' object has no attribute 'childNodes'"
     ]
    }
   ],
   "source": [
    "def bonsai_train(maxDepth,K):\n",
    "    (X, y)=utils.load_data(\"data\",16385,3400)\n",
    "    X=normalize(X, norm='l2', axis=1)\n",
    "    yt=y.transpose()\n",
    "    cent_mat=yt*X\n",
    "    cent_mat=normalize(cent_mat, norm='l2', axis=1)\n",
    "    root=dt.Node()\n",
    "    root.inputX=X\n",
    "    root.inputy=yt\n",
    "    root.centMatrix=cent_mat\n",
    "    childNodes=grow(root,maxDepth,K)\n",
    "    for node in childNodes:\n",
    "        root.children.append(node)\n",
    "    return root\n",
    "\n",
    "def grow(node,maxDepth,K):\n",
    "    listOfPartition=kmeans(node.centMatrix,K)\n",
    "    childrenNodes=[]\n",
    "    for nodeLabelPartition in listOfPartition:\n",
    "        tempNode=dt.Node()\n",
    "        tempNode.labels=nodeLabelPartition\n",
    "        tempNode.depth=node.depth+1\n",
    "        shrinkdata(tempNode,node.inputX,node.inputy,node.centMatrix,nodeLabelPartition)\n",
    "        if(K>=len(nodeLabelPartition) || tempNode.depth>=maxDepth):\n",
    "            #implement one-ve-all CSVM for the leaf node\n",
    "            continue\n",
    "        else:\n",
    "            grandChildNodes=grow(tempNode,maxDepth,K)\n",
    "            for grandchildnode in grandChildNodes:\n",
    "                tempNode.children.append(grandchildnode)\n",
    "        childrenNodes.append(tempNode)\n",
    "    #implement one-ve-all CSVM for the non-leaf node\n",
    "    return childrenNodes\n",
    "\n",
    "def shrinkdata(node,inputX,inputY,centMatrix,nodelabel):\n",
    "    return\n",
    "\n",
    "bonsai_train(2,3)"
   ]
  },
  {
   "cell_type": "code",
   "execution_count": null,
   "metadata": {},
   "outputs": [],
   "source": []
  }
 ],
 "metadata": {
  "kernelspec": {
   "display_name": "Python 3",
   "language": "python",
   "name": "python3"
  },
  "language_info": {
   "codemirror_mode": {
    "name": "ipython",
    "version": 3
   },
   "file_extension": ".py",
   "mimetype": "text/x-python",
   "name": "python",
   "nbconvert_exporter": "python",
   "pygments_lexer": "ipython3",
   "version": "3.6.8"
  }
 },
 "nbformat": 4,
 "nbformat_minor": 2
}
