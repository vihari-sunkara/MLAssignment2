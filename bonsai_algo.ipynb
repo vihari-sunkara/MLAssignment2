{
 "cells": [
  {
   "cell_type": "code",
   "execution_count": 1,
   "metadata": {},
   "outputs": [],
   "source": [
    "import numpy as np\n",
    "from sklearn.datasets import load_svmlight_file\n",
    "from sklearn.datasets import dump_svmlight_file\n",
    "from scipy import sparse as sps\n",
    "import utils\n",
    "import predict\n",
    "import DecisionTree as dt\n",
    "from sklearn.preprocessing import normalize\n",
    "from sklearn.cluster import KMeans\n",
    "from sklearn.model_selection import train_test_split\n",
    "import time as tm\n",
    "import subprocess\n",
    "# from scipy import io"
   ]
  },
  {
   "cell_type": "code",
   "execution_count": 4,
   "metadata": {},
   "outputs": [
    {
     "data": {
      "text/plain": [
       "127"
      ]
     },
     "execution_count": 4,
     "metadata": {},
     "output_type": "execute_result"
    }
   ],
   "source": [
    "subprocess.call(['./sample_run.sh'])"
   ]
  },
  {
   "cell_type": "code",
   "execution_count": 2,
   "metadata": {},
   "outputs": [],
   "source": [
    "# def kmeans(cent_mat,K):\n",
    "#     start = tm.time()\n",
    "#     kmeans = KMeans(n_clusters=100,n_jobs=-1)\n",
    "#     kmeans.fit(cent_mat)\n",
    "#     end = tm.time()\n",
    "#     print(\"time elapsed: \",end-start)\n",
    "#     list = kmeans.predict(cent_mat)\n",
    "#     partitions = [[] for i in range(K)]\n",
    "#     for i in range(3400):\n",
    "#         partitions[list[i]].append(i)\n",
    "#     return partitions\n",
    "# # BELOW CODE FOR PRINTING THE LABELS IN EACH PARTITION\n",
    "# #     i=0\n",
    "# #     for partition in partitions:\n",
    "# #         print(\"partition \",i,\" has labels \",partition)\n",
    "# #         i+=1"
   ]
  },
  {
   "cell_type": "code",
   "execution_count": 3,
   "metadata": {},
   "outputs": [
    {
     "ename": "IndentationError",
     "evalue": "expected an indented block (<ipython-input-3-f35c64e454c2>, line 23)",
     "output_type": "error",
     "traceback": [
      "\u001b[0;36m  File \u001b[0;32m\"<ipython-input-3-f35c64e454c2>\"\u001b[0;36m, line \u001b[0;32m23\u001b[0m\n\u001b[0;31m    return\u001b[0m\n\u001b[0m         ^\u001b[0m\n\u001b[0;31mIndentationError\u001b[0m\u001b[0;31m:\u001b[0m expected an indented block\n"
     ]
    }
   ],
   "source": [
    "# def delete_rows_csr(mat, indices):\n",
    "#     \"\"\"\n",
    "#     Remove the rows denoted by ``indices`` form the CSR sparse matrix ``mat``.\n",
    "#     \"\"\"\n",
    "#     if not isinstance(mat, scipy.sparse.csr_matrix):\n",
    "#         raise ValueError(\"works only for CSR format -- use .tocsr() first\")\n",
    "#     indices = list(indices)\n",
    "#     mask = numpy.ones(mat.shape[0], dtype=bool)\n",
    "#     mask[indices] = False\n",
    "#     return mat[mask]\n",
    "\n",
    "# def shrinkdata(node,inputX,inputy,centMatrix,n_Y,n_X,n_Xf,n_cXf):\n",
    "#     node.inputy=shrinkMatrix(inputy,n_Y,n_X)\n",
    "#     node.inputX=shrinkMatrix(inputX,n_X,n_Xf)\n",
    "#     node.centMatrix=shrinkMatrix(centMatrix,n_Y,n_cXf)\n",
    "#     return\n",
    "\n",
    "# def shrinkMatrix(dataInput,inputDimension,outputDimension):\n",
    "#     rows=dataInput.shape[0]\n",
    "#     indicesDelete=[]\n",
    "#     for i in rows:\n",
    "        \n",
    "#     return"
   ]
  },
  {
   "cell_type": "code",
   "execution_count": null,
   "metadata": {},
   "outputs": [],
   "source": [
    "# def bonsai_train(maxDepth,K):\n",
    "#     (X, y)=utils.load_data(\"data\",16385,3400)\n",
    "#     X=normalize(X, norm='l2', axis=1)\n",
    "#     yt=y.transpose()\n",
    "#     cent_mat=yt*X\n",
    "#     cent_mat=normalize(cent_mat, norm='l2', axis=1)\n",
    "#     root=dt.Node()\n",
    "#     root.inputX=X\n",
    "#     root.inputy=yt\n",
    "#     root.depth=0\n",
    "#     root.centMatrix=cent_mat\n",
    "#     root.childNodes=grow(root,maxDepth,K)\n",
    "#     return root\n",
    "\n",
    "# def grow(node,maxDepth,K):\n",
    "#     listOfPartition=kmeans(node.centMatrix,K)\n",
    "#     childrenNodes=[]\n",
    "#     for nodeLabelPartition in listOfPartition:\n",
    "#         tempNode=dt.Node()\n",
    "#         tempNode.labels=nodeLabelPartition\n",
    "#         tempNode.depth=node.depth+1\n",
    "#         n_X=[]\n",
    "#         n_Xf=[]\n",
    "#         n_cXf=[]\n",
    "#         shrinkdata(tempNode,node.inputX,node.inputy,node.centMatrix,nodeLabelPartition,n_X,n_Xf,n_cXf)\n",
    "#         if(K>=len(nodeLabelPartition) or tempNode.depth>=maxDepth):\n",
    "#             #implement one-ve-all CSVM for the leaf node\n",
    "#             continue\n",
    "#         else:\n",
    "#             grandChildNodes=grow(tempNode,maxDepth,K)\n",
    "#             for grandchildnode in grandChildNodes:\n",
    "#                 tempNode.children.append(grandchildnode)\n",
    "#         childrenNodes.append(tempNode)\n",
    "#     #implement one-ve-all CSVM for the non-leaf node\n",
    "#     return childrenNodes\n",
    "\n",
    "# bonsai_train(2,3)"
   ]
  },
  {
   "cell_type": "code",
   "execution_count": 2,
   "metadata": {},
   "outputs": [
    {
     "data": {
      "text/plain": [
       "<3300x3400 sparse matrix of type '<class 'numpy.float64'>'\n",
       "\twith 330000 stored elements in Compressed Sparse Row format>"
      ]
     },
     "execution_count": 2,
     "metadata": {},
     "output_type": "execute_result"
    }
   ],
   "source": [
    "filename='score_mat.txt'\n",
    "L=3400\n",
    "sparse_matrix, _ = load_svmlight_file( \"%s\" % filename, multilabel = True, n_features = L, offset = 1 )\n",
    "sparse_matrix"
   ]
  },
  {
   "cell_type": "code",
   "execution_count": 4,
   "metadata": {},
   "outputs": [
    {
     "data": {
      "text/plain": [
       "array([  59,   68,  149, ..., 3350, 3361, 3374], dtype=int32)"
      ]
     },
     "execution_count": 4,
     "metadata": {},
     "output_type": "execute_result"
    }
   ],
   "source": [
    "# arr_ll=sparse_matrix.tolil()\n",
    "arr_ll=sparse_matrix\n",
    "arr_ll.indices"
   ]
  },
  {
   "cell_type": "code",
   "execution_count": 11,
   "metadata": {},
   "outputs": [
    {
     "name": "stdout",
     "output_type": "stream",
     "text": [
      "n:  1000\n",
      "L:  3400\n",
      "yPred of type  <class 'numpy.ndarray'>  is returned here\n",
      "time for prediction:  0.48313600100027543\n",
      "prec@ 1 :  [[0.87630325]]\n",
      "mprec@ 1 :  [0.00168808]\n"
     ]
    }
   ],
   "source": [
    "k=1\n",
    "tic = tm.perf_counter()\n",
    "yPred = predict.getReco( arr_ll, k )\n",
    "toc = tm.perf_counter()\n",
    "print(\"time for prediction: \",toc-tic)\n",
    "prec_k = utils.getPrecAtK( arr_ll, yPred, k )\n",
    "print(\"prec@\",k,\": \",prec_k)\n",
    "mprec_k = utils.getMPrecAtK( arr_ll, yPred, k )\n",
    "print(\"mprec@\",k,\": \",mprec_k)"
   ]
  },
  {
   "cell_type": "code",
   "execution_count": 12,
   "metadata": {},
   "outputs": [
    {
     "name": "stdout",
     "output_type": "stream",
     "text": [
      "n:  1000\n",
      "L:  3400\n",
      "yPred of type  <class 'numpy.ndarray'>  is returned here\n",
      "time for prediction:  0.48620009099977324\n",
      "prec@ 3 :  [[0.87630325 0.74341434 0.64335402]]\n",
      "mprec@ 3 :  [0.00168808 0.00207263 0.00210374]\n"
     ]
    }
   ],
   "source": [
    "k=3\n",
    "tic = tm.perf_counter()\n",
    "yPred = predict.getReco( arr_ll, k )\n",
    "toc = tm.perf_counter()\n",
    "print(\"time for prediction: \",toc-tic)\n",
    "prec_k = utils.getPrecAtK( arr_ll, yPred, k )\n",
    "print(\"prec@\",k,\": \",prec_k)\n",
    "mprec_k = utils.getMPrecAtK( arr_ll, yPred, k )\n",
    "print(\"mprec@\",k,\": \",mprec_k)"
   ]
  },
  {
   "cell_type": "code",
   "execution_count": 13,
   "metadata": {},
   "outputs": [
    {
     "name": "stdout",
     "output_type": "stream",
     "text": [
      "n:  1000\n",
      "L:  3400\n",
      "yPred of type  <class 'numpy.ndarray'>  is returned here\n",
      "time for prediction:  0.4816531540000142\n",
      "prec@ 5 :  [[0.87630325 0.74341434 0.64335402 0.56574976 0.50539189]]\n",
      "mprec@ 5 :  [0.00168808 0.00207263 0.00210374 0.00210374 0.00210374]\n"
     ]
    }
   ],
   "source": [
    "k=5\n",
    "tic = tm.perf_counter()\n",
    "yPred = predict.getReco( arr_ll, k )\n",
    "toc = tm.perf_counter()\n",
    "print(\"time for prediction: \",toc-tic)\n",
    "prec_k = utils.getPrecAtK( arr_ll, yPred, k )\n",
    "print(\"prec@\",k,\": \",prec_k)\n",
    "mprec_k = utils.getMPrecAtK( arr_ll, yPred, k )\n",
    "print(\"mprec@\",k,\": \",mprec_k)"
   ]
  },
  {
   "cell_type": "code",
   "execution_count": 2,
   "metadata": {},
   "outputs": [],
   "source": [
    "#VALIDATION STARTS HERE\n",
    "(X, y)=utils.load_data(\"data\",16385,3400)\n",
    "X_train, X_test, y_train, y_test = train_test_split(X, y, test_size=0.1, random_state=42)"
   ]
  },
  {
   "cell_type": "code",
   "execution_count": 3,
   "metadata": {},
   "outputs": [
    {
     "data": {
      "text/plain": [
       "(9000, 16385)"
      ]
     },
     "execution_count": 3,
     "metadata": {},
     "output_type": "execute_result"
    }
   ],
   "source": [
    "X_train.shape"
   ]
  },
  {
   "cell_type": "code",
   "execution_count": 4,
   "metadata": {
    "scrolled": true
   },
   "outputs": [
    {
     "data": {
      "text/plain": [
       "(1000, 16385)"
      ]
     },
     "execution_count": 4,
     "metadata": {},
     "output_type": "execute_result"
    }
   ],
   "source": [
    "X_test.shape"
   ]
  },
  {
   "cell_type": "code",
   "execution_count": 5,
   "metadata": {},
   "outputs": [
    {
     "data": {
      "text/plain": [
       "scipy.sparse.csr.csr_matrix"
      ]
     },
     "execution_count": 5,
     "metadata": {},
     "output_type": "execute_result"
    }
   ],
   "source": [
    "type(y_train)"
   ]
  },
  {
   "cell_type": "code",
   "execution_count": 6,
   "metadata": {},
   "outputs": [
    {
     "data": {
      "text/plain": [
       "(1000, 3400)"
      ]
     },
     "execution_count": 6,
     "metadata": {},
     "output_type": "execute_result"
    }
   ],
   "source": [
    "y_test.shape"
   ]
  },
  {
   "cell_type": "code",
   "execution_count": 7,
   "metadata": {},
   "outputs": [],
   "source": [
    "utils.dump_data(X_train,y_train,\"assignmentData\",\"trn\")"
   ]
  },
  {
   "cell_type": "code",
   "execution_count": 8,
   "metadata": {},
   "outputs": [],
   "source": [
    "utils.dump_data(X_test,y_test,\"assignmentData\", \"tst\")"
   ]
  },
  {
   "cell_type": "code",
   "execution_count": null,
   "metadata": {},
   "outputs": [],
   "source": []
  }
 ],
 "metadata": {
  "kernelspec": {
   "display_name": "Python 3",
   "language": "python",
   "name": "python3"
  },
  "language_info": {
   "codemirror_mode": {
    "name": "ipython",
    "version": 3
   },
   "file_extension": ".py",
   "mimetype": "text/x-python",
   "name": "python",
   "nbconvert_exporter": "python",
   "pygments_lexer": "ipython3",
   "version": "3.6.8"
  }
 },
 "nbformat": 4,
 "nbformat_minor": 2
}
