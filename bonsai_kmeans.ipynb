{
 "cells": [
  {
   "cell_type": "code",
   "execution_count": 2,
   "metadata": {},
   "outputs": [],
   "source": [
    "import numpy as np\n",
    "from sklearn.datasets import load_svmlight_file\n",
    "from sklearn.datasets import dump_svmlight_file\n",
    "from scipy import sparse as sps\n",
    "import utils\n",
    "import DecisionTree as dt\n",
    "from sklearn.preprocessing import normalize\n",
    "from sklearn.cluster import KMeans\n",
    "import time"
   ]
  },
  {
   "cell_type": "code",
   "execution_count": 3,
   "metadata": {},
   "outputs": [],
   "source": [
    "def train_trees():\n",
    "    (X, y)=utils.load_data(\"data\",16385,3400)\n",
    "    X=normalize(X, norm='l2', axis=1)\n",
    "    yt=y.transpose()\n",
    "    #assuming param.cent_type == 0\n",
    "    print(y.shape)\n",
    "    print(X.shape)\n",
    "    cent_mat=yt*X\n",
    "    print(cent_mat.shape)\n",
    "\n",
    "#train_trees()"
   ]
  },
  {
   "cell_type": "code",
   "execution_count": 4,
   "metadata": {},
   "outputs": [
    {
     "name": "stdout",
     "output_type": "stream",
     "text": [
      "(10000, 3400)\n",
      "(10000, 16385)\n",
      "(3400, 16385)\n"
     ]
    }
   ],
   "source": [
    "(X, y)=utils.load_data(\"data\",16385,3400)\n",
    "X=normalize(X, norm='l2', axis=1)\n",
    "yt=y.transpose()\n",
    "    #assuming param.cent_type == 0\n",
    "print(y.shape)\n",
    "print(X.shape)\n",
    "cent_mat=yt*X\n",
    "print(cent_mat.shape)"
   ]
  },
  {
   "cell_type": "code",
   "execution_count": 6,
   "metadata": {},
   "outputs": [
    {
     "name": "stdout",
     "output_type": "stream",
     "text": [
      "time elapsed:  482.0965132713318\n"
     ]
    }
   ],
   "source": [
    "start = time.time()\n",
    "kmeans = KMeans(n_clusters=2,n_jobs=-1)\n",
    "kmeans.fit(cent_mat)\n",
    "end = time.time()\n",
    "print(\"time elapsed: \",end-start)"
   ]
  },
  {
   "cell_type": "code",
   "execution_count": 6,
   "metadata": {},
   "outputs": [
    {
     "data": {
      "text/plain": [
       "array([[2.11047866e-03, 5.03841163e-03, 7.37556392e-03, ...,\n",
       "        4.46674264e-02, 8.47401319e-03, 2.51009374e+01],\n",
       "       [3.78348061e-01, 9.43012919e-01, 1.23741635e+00, ...,\n",
       "        6.69439316e+00, 1.12444990e+00, 3.57560324e+03]])"
      ]
     },
     "execution_count": 6,
     "metadata": {},
     "output_type": "execute_result"
    }
   ],
   "source": [
    "kmeans.cluster_centers_"
   ]
  },
  {
   "cell_type": "code",
   "execution_count": null,
   "metadata": {},
   "outputs": [],
   "source": []
  }
 ],
 "metadata": {
  "kernelspec": {
   "display_name": "Python 2",
   "language": "python",
   "name": "python2"
  },
  "language_info": {
   "codemirror_mode": {
    "name": "ipython",
    "version": 3
   },
   "file_extension": ".py",
   "mimetype": "text/x-python",
   "name": "python",
   "nbconvert_exporter": "python",
   "pygments_lexer": "ipython3",
   "version": "3.6.8"
  }
 },
 "nbformat": 4,
 "nbformat_minor": 2
}
